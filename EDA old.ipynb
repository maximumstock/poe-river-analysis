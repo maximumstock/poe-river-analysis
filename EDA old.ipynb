{
 "cells": [
  {
   "cell_type": "code",
   "execution_count": 3,
   "metadata": {},
   "outputs": [],
   "source": [
    "import pandas as pd\n",
    "import matplotlib.pyplot as plt\n",
    "import numpy as np\n",
    "%matplotlib inline"
   ]
  },
  {
   "cell_type": "code",
   "execution_count": 4,
   "metadata": {},
   "outputs": [],
   "source": [
    "df = pd.read_csv(\"stash_frequency_updates/heist.csv\")"
   ]
  },
  {
   "cell_type": "code",
   "execution_count": 61,
   "metadata": {},
   "outputs": [
    {
     "data": {
      "text/html": [
       "<div>\n",
       "<style scoped>\n",
       "    .dataframe tbody tr th:only-of-type {\n",
       "        vertical-align: middle;\n",
       "    }\n",
       "\n",
       "    .dataframe tbody tr th {\n",
       "        vertical-align: top;\n",
       "    }\n",
       "\n",
       "    .dataframe thead th {\n",
       "        text-align: right;\n",
       "    }\n",
       "</style>\n",
       "<table border=\"1\" class=\"dataframe\">\n",
       "  <thead>\n",
       "    <tr style=\"text-align: right;\">\n",
       "      <th></th>\n",
       "      <th>created_at</th>\n",
       "      <th>change_id</th>\n",
       "      <th>account_name</th>\n",
       "      <th>last_character_name</th>\n",
       "      <th>stash_id</th>\n",
       "    </tr>\n",
       "  </thead>\n",
       "  <tbody>\n",
       "    <tr>\n",
       "      <th>2581524</th>\n",
       "      <td>2021-01-02 19:39:00.987972</td>\n",
       "      <td>920531473-931580663-893405168-1005853299-78855892</td>\n",
       "      <td>MbyM</td>\n",
       "      <td>nopunch_heist</td>\n",
       "      <td>0250e3945dfc29e2a3e2d279c2a42d66cbb3c213cea0c8...</td>\n",
       "    </tr>\n",
       "    <tr>\n",
       "      <th>10256481</th>\n",
       "      <td>2020-12-13 15:18:30.334684</td>\n",
       "      <td>908306404-919609614-881805689-992809912-951233457</td>\n",
       "      <td>dejv</td>\n",
       "      <td>hajstdejv</td>\n",
       "      <td>40cf7790e49f0121d3a4310132625066c62fdb5636a116...</td>\n",
       "    </tr>\n",
       "    <tr>\n",
       "      <th>883003</th>\n",
       "      <td>2020-12-28 05:59:21.845983</td>\n",
       "      <td>917429196-928606633-890500971-1002389210-27658223</td>\n",
       "      <td>Eggar</td>\n",
       "      <td>NeedThatCat</td>\n",
       "      <td>bfe95252ebb192988a82ea6c4cbe68c6dfc8cf6275aee2...</td>\n",
       "    </tr>\n",
       "  </tbody>\n",
       "</table>\n",
       "</div>"
      ],
      "text/plain": [
       "                          created_at  \\\n",
       "2581524   2021-01-02 19:39:00.987972   \n",
       "10256481  2020-12-13 15:18:30.334684   \n",
       "883003    2020-12-28 05:59:21.845983   \n",
       "\n",
       "                                                  change_id account_name  \\\n",
       "2581524   920531473-931580663-893405168-1005853299-78855892         MbyM   \n",
       "10256481  908306404-919609614-881805689-992809912-951233457         dejv   \n",
       "883003    917429196-928606633-890500971-1002389210-27658223        Eggar   \n",
       "\n",
       "         last_character_name  \\\n",
       "2581524        nopunch_heist   \n",
       "10256481           hajstdejv   \n",
       "883003           NeedThatCat   \n",
       "\n",
       "                                                   stash_id  \n",
       "2581524   0250e3945dfc29e2a3e2d279c2a42d66cbb3c213cea0c8...  \n",
       "10256481  40cf7790e49f0121d3a4310132625066c62fdb5636a116...  \n",
       "883003    bfe95252ebb192988a82ea6c4cbe68c6dfc8cf6275aee2...  "
      ]
     },
     "execution_count": 61,
     "metadata": {},
     "output_type": "execute_result"
    }
   ],
   "source": [
    "df.sample(3)"
   ]
  },
  {
   "cell_type": "code",
   "execution_count": 62,
   "metadata": {},
   "outputs": [
    {
     "data": {
      "text/html": [
       "<div>\n",
       "<style scoped>\n",
       "    .dataframe tbody tr th:only-of-type {\n",
       "        vertical-align: middle;\n",
       "    }\n",
       "\n",
       "    .dataframe tbody tr th {\n",
       "        vertical-align: top;\n",
       "    }\n",
       "\n",
       "    .dataframe thead th {\n",
       "        text-align: right;\n",
       "    }\n",
       "</style>\n",
       "<table border=\"1\" class=\"dataframe\">\n",
       "  <thead>\n",
       "    <tr style=\"text-align: right;\">\n",
       "      <th></th>\n",
       "      <th>created_at</th>\n",
       "      <th>change_id</th>\n",
       "      <th>account_name</th>\n",
       "      <th>last_character_name</th>\n",
       "      <th>stash_id</th>\n",
       "    </tr>\n",
       "  </thead>\n",
       "  <tbody>\n",
       "    <tr>\n",
       "      <th>count</th>\n",
       "      <td>14755243</td>\n",
       "      <td>14755243</td>\n",
       "      <td>14755243</td>\n",
       "      <td>14755155</td>\n",
       "      <td>14755243</td>\n",
       "    </tr>\n",
       "    <tr>\n",
       "      <th>unique</th>\n",
       "      <td>2516147</td>\n",
       "      <td>2516145</td>\n",
       "      <td>108455</td>\n",
       "      <td>213591</td>\n",
       "      <td>1444282</td>\n",
       "    </tr>\n",
       "    <tr>\n",
       "      <th>top</th>\n",
       "      <td>2020-12-18 17:37:54.127872</td>\n",
       "      <td>910238466-921510967-883700011-994744076-953145936</td>\n",
       "      <td>따아용</td>\n",
       "      <td>안이쁘다</td>\n",
       "      <td>bb726172506ff285edc0760078577b9b21618cd41c3de7...</td>\n",
       "    </tr>\n",
       "    <tr>\n",
       "      <th>freq</th>\n",
       "      <td>367</td>\n",
       "      <td>367</td>\n",
       "      <td>22367</td>\n",
       "      <td>21831</td>\n",
       "      <td>2706</td>\n",
       "    </tr>\n",
       "  </tbody>\n",
       "</table>\n",
       "</div>"
      ],
      "text/plain": [
       "                        created_at  \\\n",
       "count                     14755243   \n",
       "unique                     2516147   \n",
       "top     2020-12-18 17:37:54.127872   \n",
       "freq                           367   \n",
       "\n",
       "                                                change_id account_name  \\\n",
       "count                                            14755243     14755243   \n",
       "unique                                            2516145       108455   \n",
       "top     910238466-921510967-883700011-994744076-953145936          따아용   \n",
       "freq                                                  367        22367   \n",
       "\n",
       "       last_character_name                                           stash_id  \n",
       "count             14755155                                           14755243  \n",
       "unique              213591                                            1444282  \n",
       "top                   안이쁘다  bb726172506ff285edc0760078577b9b21618cd41c3de7...  \n",
       "freq                 21831                                               2706  "
      ]
     },
     "execution_count": 62,
     "metadata": {},
     "output_type": "execute_result"
    }
   ],
   "source": [
    "df.describe()"
   ]
  },
  {
   "cell_type": "markdown",
   "metadata": {},
   "source": [
    "# Stash Type Usage"
   ]
  },
  {
   "cell_type": "code",
   "execution_count": null,
   "metadata": {},
   "outputs": [],
   "source": [
    "print(\"Unique stash types: {}\".format(df[\"stash_type\"].unique()))"
   ]
  },
  {
   "cell_type": "code",
   "execution_count": 64,
   "metadata": {},
   "outputs": [
    {
     "data": {
      "text/plain": [
       "Index(['created_at', 'change_id', 'account_name', 'last_character_name',\n",
       "       'stash_id'],\n",
       "      dtype='object')"
      ]
     },
     "execution_count": 64,
     "metadata": {},
     "output_type": "execute_result"
    }
   ],
   "source": [
    "df.columns"
   ]
  },
  {
   "cell_type": "code",
   "execution_count": null,
   "metadata": {},
   "outputs": [],
   "source": [
    "df.groupby(\"stash_type\").count().plot.bar(y=\"created_at\", label=\"Stash Type\", figsize=(10, 5))"
   ]
  },
  {
   "cell_type": "markdown",
   "metadata": {},
   "source": [
    "# Account Names"
   ]
  },
  {
   "cell_type": "code",
   "execution_count": 66,
   "metadata": {},
   "outputs": [
    {
     "data": {
      "text/plain": [
       "count    108455.000000\n",
       "mean        136.049449\n",
       "std         476.014479\n",
       "min           1.000000\n",
       "25%           3.000000\n",
       "50%          14.000000\n",
       "75%          73.000000\n",
       "max       22367.000000\n",
       "Name: created_at, dtype: float64"
      ]
     },
     "execution_count": 66,
     "metadata": {},
     "output_type": "execute_result"
    }
   ],
   "source": [
    "unique_account_names = df.groupby(\"account_name\").count()\n",
    "unique_account_names[\"created_at\"].describe()"
   ]
  },
  {
   "cell_type": "markdown",
   "metadata": {},
   "source": [
    "There were 1914 unique accounts"
   ]
  },
  {
   "cell_type": "code",
   "execution_count": 68,
   "metadata": {},
   "outputs": [
    {
     "data": {
      "text/plain": [
       "Text(0.5, 1.0, 'account_name distribution')"
      ]
     },
     "execution_count": 68,
     "metadata": {},
     "output_type": "execute_result"
    },
    {
     "data": {
      "image/png": "[encoded data removed]",
      "text/plain": [
       "<Figure size 432x288 with 1 Axes>"
      ]
     },
     "metadata": {
      "needs_background": "light"
     },
     "output_type": "display_data"
    }
   ],
   "source": [
    "unique_account_names[\"created_at\"].hist(bins=200)\n",
    "plt.title(\"account_name distribution\")\n",
    "#plt.yscale(\"log\")"
   ]
  },
  {
   "cell_type": "markdown",
   "metadata": {},
   "source": [
    "# Stash Update Frequency per Account Name"
   ]
  },
  {
   "cell_type": "markdown",
   "metadata": {},
   "source": [
    "- Calculate differences between stash_records created_at fields for each account\n",
    "- cycle over window and reduce stash_records to list (n - 1) of second differences\n",
    "- look at some distributions\n",
    "    - look into how to compare distributions in here\n",
    "    - plotting all of them is probably not feasible\n",
    "    - probably plot histogram of median/average values"
   ]
  },
  {
   "cell_type": "code",
   "execution_count": 30,
   "metadata": {},
   "outputs": [],
   "source": [
    "ticks = df.groupby(\"account_name\")['created_at'].apply(list).to_dict()"
   ]
  },
  {
   "cell_type": "code",
   "execution_count": 31,
   "metadata": {},
   "outputs": [],
   "source": [
    "import datetime\n",
    "import dateutil.parser\n",
    "\n",
    "def with_indexing(dstr):                              \n",
    "    return datetime.datetime(*map(int, [dstr[:4], dstr[5:7], dstr[8:10], dstr[11:13], dstr[14:16], dstr[17:19]])) \n",
    "\n",
    "def reduce_to_diffs(timestamps):\n",
    "    tick_diffs = list()\n",
    "    for idx, ts in enumerate(timestamps):\n",
    "        if idx == 0:\n",
    "            continue\n",
    "        d1 = with_indexing(ts)\n",
    "        d2 = with_indexing(timestamps[idx - 1])\n",
    "        diff = round((d1 - d2).total_seconds())\n",
    "\n",
    "        # We can safely filter out 0 values, since that only means we got two update ticks for two different stashes within the same change_id with the same created_at timestamp.\n",
    "        # For our current goal, all ticks at the same timestamp can be viewed as one, because we only care for each player's update frequency.\n",
    "        if diff > 0 and diff < 3600:\n",
    "            tick_diffs.append(diff)\n",
    "    return tick_diffs"
   ]
  },
  {
   "cell_type": "code",
   "execution_count": 32,
   "metadata": {},
   "outputs": [],
   "source": [
    "for key in ticks.keys():\n",
    "    ticks[key] = reduce_to_diffs(ticks[key])"
   ]
  },
  {
   "cell_type": "code",
   "execution_count": 33,
   "metadata": {},
   "outputs": [],
   "source": [
    "stats = dict()\n",
    "for key in ticks.keys():\n",
    "    tick_diffs = ticks[key]\n",
    "    if len(tick_diffs) <= 100:\n",
    "        continue\n",
    "    \n",
    "    tick_diffs_df = pd.DataFrame({ \"tick_diffs\": tick_diffs})\n",
    "    stats[key] = tick_diffs_df.describe().to_dict()[\"tick_diffs\"]\n",
    "    stats[key][\"99%\"] = np.percentile(tick_diffs, 99)\n",
    "    stats[key][\"98%\"] = np.percentile(tick_diffs, 98)\n",
    "    stats[key][\"95%\"] = np.percentile(tick_diffs, 95)    \n",
    "    stats[key][\"90%\"] = np.percentile(tick_diffs, 90)\n",
    "\n",
    "    #print(stats[key])"
   ]
  },
  {
   "cell_type": "code",
   "execution_count": 34,
   "metadata": {},
   "outputs": [],
   "source": [
    "stats_df = pd.DataFrame(stats).transpose()"
   ]
  },
  {
   "cell_type": "code",
   "execution_count": 35,
   "metadata": {},
   "outputs": [
    {
     "data": {
      "text/html": [
       "<div>\n",
       "<style scoped>\n",
       "    .dataframe tbody tr th:only-of-type {\n",
       "        vertical-align: middle;\n",
       "    }\n",
       "\n",
       "    .dataframe tbody tr th {\n",
       "        vertical-align: top;\n",
       "    }\n",
       "\n",
       "    .dataframe thead th {\n",
       "        text-align: right;\n",
       "    }\n",
       "</style>\n",
       "<table border=\"1\" class=\"dataframe\">\n",
       "  <thead>\n",
       "    <tr style=\"text-align: right;\">\n",
       "      <th></th>\n",
       "      <th>count</th>\n",
       "      <th>mean</th>\n",
       "      <th>std</th>\n",
       "      <th>min</th>\n",
       "      <th>25%</th>\n",
       "      <th>50%</th>\n",
       "      <th>75%</th>\n",
       "      <th>max</th>\n",
       "      <th>99%</th>\n",
       "      <th>98%</th>\n",
       "      <th>95%</th>\n",
       "      <th>90%</th>\n",
       "    </tr>\n",
       "  </thead>\n",
       "  <tbody>\n",
       "    <tr>\n",
       "      <th>--GoldFish--</th>\n",
       "      <td>175.0</td>\n",
       "      <td>1084.834286</td>\n",
       "      <td>749.799920</td>\n",
       "      <td>52.0</td>\n",
       "      <td>515.00</td>\n",
       "      <td>839.0</td>\n",
       "      <td>1535.00</td>\n",
       "      <td>3547.0</td>\n",
       "      <td>3431.70</td>\n",
       "      <td>2895.00</td>\n",
       "      <td>2517.10</td>\n",
       "      <td>2113.2</td>\n",
       "    </tr>\n",
       "    <tr>\n",
       "      <th>0000000000000000000000000</th>\n",
       "      <td>223.0</td>\n",
       "      <td>652.165919</td>\n",
       "      <td>473.775999</td>\n",
       "      <td>1.0</td>\n",
       "      <td>359.00</td>\n",
       "      <td>536.0</td>\n",
       "      <td>899.00</td>\n",
       "      <td>2700.0</td>\n",
       "      <td>2152.18</td>\n",
       "      <td>1828.44</td>\n",
       "      <td>1510.40</td>\n",
       "      <td>1321.8</td>\n",
       "    </tr>\n",
       "    <tr>\n",
       "      <th>01Jeff</th>\n",
       "      <td>409.0</td>\n",
       "      <td>893.706601</td>\n",
       "      <td>815.305790</td>\n",
       "      <td>1.0</td>\n",
       "      <td>360.00</td>\n",
       "      <td>642.0</td>\n",
       "      <td>1100.00</td>\n",
       "      <td>3546.0</td>\n",
       "      <td>3408.04</td>\n",
       "      <td>3276.56</td>\n",
       "      <td>2851.00</td>\n",
       "      <td>2112.0</td>\n",
       "    </tr>\n",
       "    <tr>\n",
       "      <th>034mks034</th>\n",
       "      <td>301.0</td>\n",
       "      <td>851.564784</td>\n",
       "      <td>695.387340</td>\n",
       "      <td>1.0</td>\n",
       "      <td>365.00</td>\n",
       "      <td>641.0</td>\n",
       "      <td>1112.00</td>\n",
       "      <td>3587.0</td>\n",
       "      <td>3200.00</td>\n",
       "      <td>3020.00</td>\n",
       "      <td>2402.00</td>\n",
       "      <td>1694.0</td>\n",
       "    </tr>\n",
       "    <tr>\n",
       "      <th>0486</th>\n",
       "      <td>1268.0</td>\n",
       "      <td>557.671136</td>\n",
       "      <td>532.385872</td>\n",
       "      <td>2.0</td>\n",
       "      <td>208.75</td>\n",
       "      <td>441.0</td>\n",
       "      <td>685.75</td>\n",
       "      <td>3581.0</td>\n",
       "      <td>2830.59</td>\n",
       "      <td>2355.60</td>\n",
       "      <td>1668.90</td>\n",
       "      <td>1086.9</td>\n",
       "    </tr>\n",
       "    <tr>\n",
       "      <th>...</th>\n",
       "      <td>...</td>\n",
       "      <td>...</td>\n",
       "      <td>...</td>\n",
       "      <td>...</td>\n",
       "      <td>...</td>\n",
       "      <td>...</td>\n",
       "      <td>...</td>\n",
       "      <td>...</td>\n",
       "      <td>...</td>\n",
       "      <td>...</td>\n",
       "      <td>...</td>\n",
       "      <td>...</td>\n",
       "    </tr>\n",
       "    <tr>\n",
       "      <th>히어로즈오브스톰</th>\n",
       "      <td>165.0</td>\n",
       "      <td>510.369697</td>\n",
       "      <td>463.309348</td>\n",
       "      <td>9.0</td>\n",
       "      <td>215.00</td>\n",
       "      <td>383.0</td>\n",
       "      <td>654.00</td>\n",
       "      <td>2921.0</td>\n",
       "      <td>2044.84</td>\n",
       "      <td>1933.32</td>\n",
       "      <td>1422.60</td>\n",
       "      <td>983.2</td>\n",
       "    </tr>\n",
       "    <tr>\n",
       "      <th>힐스테이트</th>\n",
       "      <td>2445.0</td>\n",
       "      <td>467.017587</td>\n",
       "      <td>469.199651</td>\n",
       "      <td>1.0</td>\n",
       "      <td>176.00</td>\n",
       "      <td>336.0</td>\n",
       "      <td>588.00</td>\n",
       "      <td>3441.0</td>\n",
       "      <td>2448.20</td>\n",
       "      <td>2057.36</td>\n",
       "      <td>1357.20</td>\n",
       "      <td>983.4</td>\n",
       "    </tr>\n",
       "    <tr>\n",
       "      <th>힐해줄까요</th>\n",
       "      <td>129.0</td>\n",
       "      <td>1199.232558</td>\n",
       "      <td>823.818942</td>\n",
       "      <td>325.0</td>\n",
       "      <td>515.00</td>\n",
       "      <td>877.0</td>\n",
       "      <td>1636.00</td>\n",
       "      <td>3584.0</td>\n",
       "      <td>3377.28</td>\n",
       "      <td>3320.24</td>\n",
       "      <td>2956.40</td>\n",
       "      <td>2502.8</td>\n",
       "    </tr>\n",
       "    <tr>\n",
       "      <th>힘찬찬</th>\n",
       "      <td>308.0</td>\n",
       "      <td>849.110390</td>\n",
       "      <td>593.481645</td>\n",
       "      <td>8.0</td>\n",
       "      <td>439.75</td>\n",
       "      <td>708.0</td>\n",
       "      <td>1089.25</td>\n",
       "      <td>3326.0</td>\n",
       "      <td>2720.88</td>\n",
       "      <td>2634.08</td>\n",
       "      <td>2048.25</td>\n",
       "      <td>1652.5</td>\n",
       "    </tr>\n",
       "    <tr>\n",
       "      <th>힝구방구</th>\n",
       "      <td>106.0</td>\n",
       "      <td>1354.575472</td>\n",
       "      <td>863.558970</td>\n",
       "      <td>307.0</td>\n",
       "      <td>635.50</td>\n",
       "      <td>1138.5</td>\n",
       "      <td>1967.75</td>\n",
       "      <td>3508.0</td>\n",
       "      <td>3303.30</td>\n",
       "      <td>3200.90</td>\n",
       "      <td>2984.25</td>\n",
       "      <td>2709.0</td>\n",
       "    </tr>\n",
       "  </tbody>\n",
       "</table>\n",
       "<p>15549 rows × 12 columns</p>\n",
       "</div>"
      ],
      "text/plain": [
       "                            count         mean         std    min     25%  \\\n",
       "--GoldFish--                175.0  1084.834286  749.799920   52.0  515.00   \n",
       "0000000000000000000000000   223.0   652.165919  473.775999    1.0  359.00   \n",
       "01Jeff                      409.0   893.706601  815.305790    1.0  360.00   \n",
       "034mks034                   301.0   851.564784  695.387340    1.0  365.00   \n",
       "0486                       1268.0   557.671136  532.385872    2.0  208.75   \n",
       "...                           ...          ...         ...    ...     ...   \n",
       "히어로즈오브스톰                    165.0   510.369697  463.309348    9.0  215.00   \n",
       "힐스테이트                      2445.0   467.017587  469.199651    1.0  176.00   \n",
       "힐해줄까요                       129.0  1199.232558  823.818942  325.0  515.00   \n",
       "힘찬찬                         308.0   849.110390  593.481645    8.0  439.75   \n",
       "힝구방구                        106.0  1354.575472  863.558970  307.0  635.50   \n",
       "\n",
       "                              50%      75%     max      99%      98%      95%  \\\n",
       "--GoldFish--                839.0  1535.00  3547.0  3431.70  2895.00  2517.10   \n",
       "0000000000000000000000000   536.0   899.00  2700.0  2152.18  1828.44  1510.40   \n",
       "01Jeff                      642.0  1100.00  3546.0  3408.04  3276.56  2851.00   \n",
       "034mks034                   641.0  1112.00  3587.0  3200.00  3020.00  2402.00   \n",
       "0486                        441.0   685.75  3581.0  2830.59  2355.60  1668.90   \n",
       "...                           ...      ...     ...      ...      ...      ...   \n",
       "히어로즈오브스톰                    383.0   654.00  2921.0  2044.84  1933.32  1422.60   \n",
       "힐스테이트                       336.0   588.00  3441.0  2448.20  2057.36  1357.20   \n",
       "힐해줄까요                       877.0  1636.00  3584.0  3377.28  3320.24  2956.40   \n",
       "힘찬찬                         708.0  1089.25  3326.0  2720.88  2634.08  2048.25   \n",
       "힝구방구                       1138.5  1967.75  3508.0  3303.30  3200.90  2984.25   \n",
       "\n",
       "                              90%  \n",
       "--GoldFish--               2113.2  \n",
       "0000000000000000000000000  1321.8  \n",
       "01Jeff                     2112.0  \n",
       "034mks034                  1694.0  \n",
       "0486                       1086.9  \n",
       "...                           ...  \n",
       "히어로즈오브스톰                    983.2  \n",
       "힐스테이트                       983.4  \n",
       "힐해줄까요                      2502.8  \n",
       "힘찬찬                        1652.5  \n",
       "힝구방구                       2709.0  \n",
       "\n",
       "[15549 rows x 12 columns]"
      ]
     },
     "execution_count": 35,
     "metadata": {},
     "output_type": "execute_result"
    }
   ],
   "source": [
    "stats_df"
   ]
  },
  {
   "cell_type": "code",
   "execution_count": 36,
   "metadata": {},
   "outputs": [],
   "source": [
    "stats_df.to_csv(\"tick_diff_stats_heist_sc.csv\")"
   ]
  },
  {
   "cell_type": "code",
   "execution_count": 37,
   "metadata": {},
   "outputs": [
    {
     "data": {
      "text/plain": [
       "array([[<matplotlib.axes._subplots.AxesSubplot object at 0x1853e03d0>]],\n",
       "      dtype=object)"
      ]
     },
     "execution_count": 37,
     "metadata": {},
     "output_type": "execute_result"
    },
    {
     "data": {
      "image/png": "[encoded data removed]",
      "text/plain": [
       "<Figure size 432x288 with 1 Axes>"
      ]
     },
     "metadata": {
      "needs_background": "light"
     },
     "output_type": "display_data"
    }
   ],
   "source": [
    "stats_df.hist(\"count\", bins=100)\n",
    "#plt.yscale(\"log\")"
   ]
  },
  {
   "cell_type": "code",
   "execution_count": 38,
   "metadata": {},
   "outputs": [
    {
     "data": {
      "image/png": "[encoded data removed]",
      "text/plain": [
       "<Figure size 1152x720 with 9 Axes>"
      ]
     },
     "metadata": {
      "needs_background": "light"
     },
     "output_type": "display_data"
    }
   ],
   "source": [
    "fig, axes = plt.subplots(3, 3, figsize=(16, 10))\n",
    "columns = [\"mean\", \"min\", \"50%\", \"75%\", \"90%\", \"95%\", \"98%\", \"99%\", \"max\"]\n",
    "for idx, col in enumerate(columns):\n",
    "    r = int(idx / 3)\n",
    "    c = idx % 3\n",
    "    ax = axes[r, c]\n",
    "    ax.set_xlim(0, 3600)\n",
    "    stats_df.hist(column=col, bins=100, ax=ax)"
   ]
  },
  {
   "cell_type": "code",
   "execution_count": 39,
   "metadata": {},
   "outputs": [
    {
     "data": {
      "image/png": "[encoded data removed]",
      "text/plain": [
       "<Figure size 1152x720 with 9 Axes>"
      ]
     },
     "metadata": {
      "needs_background": "light"
     },
     "output_type": "display_data"
    }
   ],
   "source": [
    "fig, axes = plt.subplots(3, 3, figsize=(16, 10))\n",
    "columns = [\"mean\", \"min\", \"50%\", \"75%\", \"90%\", \"95%\", \"98%\", \"99%\", \"max\"]\n",
    "for idx, col in enumerate(columns):\n",
    "    r = int(idx / 3)\n",
    "    c = idx % 3\n",
    "    ax = axes[r, c]\n",
    "    ax.set_xlim(0, 3600)\n",
    "    stats_df.plot.scatter(x=col, y=\"count\", ax=ax)"
   ]
  },
  {
   "cell_type": "markdown",
   "metadata": {},
   "source": [
    "As of right now I'm not sure what to conclude from this.\n",
    "\n",
    "Looking at the scatter plots, there is no clear indication of a group of accounts that is mostly (lets say 75% of stash updates) faster than the vast remaining majority of players.\n",
    "My hope for this group of accounts to exist is of course based on the assumption that seller-accounts generate proportionately more stash updates than regular players or at least with a certain consistency (which imo should then show up in the plots above) compaired to regular players.\n",
    "\n",
    "Apparently, looking at stash update frequency alone is not enough to indicate anything.\n",
    "The next step would be to look at the most frequently updating accounts and look at the type of updates. \n",
    "\n",
    "Maybe we can deduce some account category from the type of stash updates, eg. many additions might be someone mapping and dumping everything in a quad stash tab.\n",
    "Or someone that exchanges many kinds of item types (gear, currency, maps, etc.) for currency might be more of a trade type account."
   ]
  },
  {
   "cell_type": "code",
   "execution_count": null,
   "metadata": {},
   "outputs": [],
   "source": []
  }
 ],
 "metadata": {
  "kernelspec": {
   "display_name": "Python 3",
   "language": "python",
   "name": "python3"
  },
  "language_info": {
   "codemirror_mode": {
    "name": "ipython",
    "version": 3
   },
   "file_extension": ".py",
   "mimetype": "text/x-python",
   "name": "python",
   "nbconvert_exporter": "python",
   "pygments_lexer": "ipython3",
   "version": "3.9.1"
  }
 },
 "nbformat": 4,
 "nbformat_minor": 4
}
